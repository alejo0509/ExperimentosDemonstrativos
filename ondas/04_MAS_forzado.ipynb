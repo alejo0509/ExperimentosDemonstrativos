{
 "cells": [
  {
   "cell_type": "code",
   "execution_count": null,
   "metadata": {},
   "outputs": [],
   "source": [
    "import numpy as np\n",
    "import matplotlib.pyplot as plt\n",
    "from scipy.integrate import odeint"
   ]
  },
  {
   "cell_type": "code",
   "execution_count": null,
   "metadata": {},
   "outputs": [],
   "source": [
    "def movimiento(X, t, m, k, gamma, f_0, omega_f):\n",
    "    x, v = X\n",
    "    dXdt = [v, -(k/m)*x - gamma*v + (f_0/m) * np.cos(omega_f * t)]\n",
    "    return dXdt"
   ]
  },
  {
   "cell_type": "code",
   "execution_count": null,
   "metadata": {},
   "outputs": [],
   "source": [
    "X0 = [1.0, 0.0]\n",
    "t = np.linspace(0,50, 50000)\n",
    "m = 1.0\n",
    "k = 1.0\n",
    "gamma = 0.0\n",
    "f_0 = 0.0\n",
    "omega_f = 1.0\n",
    "sol = odeint(movimiento, X0, t, args=(m, k, gamma, f_0, omega_f))\n",
    "x_libre = sol[:,0]\n",
    "v_libre = sol[:,1]"
   ]
  },
  {
   "cell_type": "code",
   "execution_count": null,
   "metadata": {},
   "outputs": [],
   "source": [
    "plt.plot(t, x_libre)"
   ]
  },
  {
   "cell_type": "code",
   "execution_count": null,
   "metadata": {},
   "outputs": [],
   "source": [
    "plt.plot(t, v_libre)"
   ]
  },
  {
   "cell_type": "code",
   "execution_count": null,
   "metadata": {},
   "outputs": [],
   "source": [
    "plt.plot(x_libre, v_libre)"
   ]
  },
  {
   "cell_type": "code",
   "execution_count": null,
   "metadata": {},
   "outputs": [],
   "source": [
    "gamma = 0.10\n",
    "sol = odeint(movimiento, X0, t, args=(m, k, gamma, f_0, omega_f))\n",
    "x_fricc = sol[:,0]\n",
    "v_fricc = sol[:,1]"
   ]
  },
  {
   "cell_type": "code",
   "execution_count": null,
   "metadata": {},
   "outputs": [],
   "source": [
    "plt.plot(t, x_fricc)"
   ]
  },
  {
   "cell_type": "code",
   "execution_count": null,
   "metadata": {},
   "outputs": [],
   "source": [
    "plt.plot(t, v_fricc)"
   ]
  },
  {
   "cell_type": "code",
   "execution_count": null,
   "metadata": {},
   "outputs": [],
   "source": [
    "plt.plot(x_fricc, v_fricc)"
   ]
  },
  {
   "cell_type": "code",
   "execution_count": null,
   "metadata": {},
   "outputs": [],
   "source": [
    "gamma = 0.0\n",
    "f_0 = 0.5\n",
    "omega_f = 0.50\n",
    "sol = odeint(movimiento, X0, t, args=(m, k, gamma, f_0, omega_f))\n",
    "x_A = sol[:,0]\n",
    "v_A = sol[:,1]"
   ]
  },
  {
   "cell_type": "code",
   "execution_count": null,
   "metadata": {},
   "outputs": [],
   "source": [
    "gamma = 0.0\n",
    "f_0 = 0.50\n",
    "omega_f = 2.0\n",
    "sol = odeint(movimiento, X0, t, args=(m, k, gamma, f_0, omega_f))\n",
    "x_B = sol[:,0]\n",
    "v_B = sol[:,1]"
   ]
  },
  {
   "cell_type": "code",
   "execution_count": null,
   "metadata": {},
   "outputs": [],
   "source": [
    "#plt.plot(t, x_libre)\n",
    "plt.plot(t, x_A)\n",
    "plt.plot(t, x_B)"
   ]
  },
  {
   "cell_type": "code",
   "execution_count": null,
   "metadata": {},
   "outputs": [],
   "source": [
    "n_omega = 200\n",
    "omega_f_values = np.linspace(0.5, 1.5, n_omega)\n",
    "amplitud_A = np.ones(n_omega)\n",
    "for i in range(n_omega):\n",
    "    gamma = 0.0\n",
    "    f_0 = 0.5\n",
    "    omega_f = omega_f_values[i]\n",
    "    sol = odeint(movimiento, X0, t, args=(m, k, gamma, f_0, omega_f))\n",
    "    x = sol[:,0]\n",
    "    v = sol[:,1]\n",
    "    amplitud_A[i] = np.max(x) - np.min(x)"
   ]
  },
  {
   "cell_type": "code",
   "execution_count": null,
   "metadata": {},
   "outputs": [],
   "source": [
    "plt.plot(omega_f_values, amplitud_A)\n",
    "plt.grid()"
   ]
  },
  {
   "cell_type": "code",
   "execution_count": null,
   "metadata": {},
   "outputs": [],
   "source": [
    "n_omega = 200\n",
    "omega_f_values = np.linspace(0.4, 1.5, n_omega)\n",
    "amplitud_B = np.ones(n_omega)\n",
    "for i in range(n_omega):\n",
    "    gamma = 0.25\n",
    "    f_0 = 0.5\n",
    "    omega_f = omega_f_values[i]\n",
    "    sol = odeint(movimiento, X0, t, args=(m, k, gamma, f_0, omega_f))\n",
    "    x = sol[:,0]\n",
    "    v = sol[:,1]\n",
    "    amplitud_B[i] = np.max(x) - np.min(x)"
   ]
  },
  {
   "cell_type": "code",
   "execution_count": null,
   "metadata": {},
   "outputs": [],
   "source": [
    "plt.plot(omega_f_values, amplitud_B/amplitud_B.max())\n",
    "plt.plot(omega_f_values, amplitud_A/amplitud_A.max())\n",
    "plt.grid()"
   ]
  },
  {
   "cell_type": "code",
   "execution_count": null,
   "metadata": {},
   "outputs": [],
   "source": []
  }
 ],
 "metadata": {
  "kernelspec": {
   "display_name": "Python 3",
   "language": "python",
   "name": "python3"
  },
  "language_info": {
   "codemirror_mode": {
    "name": "ipython",
    "version": 3
   },
   "file_extension": ".py",
   "mimetype": "text/x-python",
   "name": "python",
   "nbconvert_exporter": "python",
   "pygments_lexer": "ipython3",
   "version": "3.6.10"
  }
 },
 "nbformat": 4,
 "nbformat_minor": 4
}
