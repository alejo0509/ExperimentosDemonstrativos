{
 "cells": [
  {
   "cell_type": "code",
   "execution_count": null,
   "metadata": {},
   "outputs": [],
   "source": [
    "import numpy as np\n",
    "import matplotlib.pyplot as plt"
   ]
  },
  {
   "cell_type": "code",
   "execution_count": null,
   "metadata": {},
   "outputs": [],
   "source": [
    "delta = np.linspace(-20, 20, 100000)"
   ]
  },
  {
   "cell_type": "code",
   "execution_count": null,
   "metadata": {},
   "outputs": [],
   "source": [
    "N = 2\n",
    "I_2 = np.sin(N*delta/2.0)**2 / np.sin(delta/2.0)**2\n",
    "plt.plot(delta, I_2)"
   ]
  },
  {
   "cell_type": "code",
   "execution_count": null,
   "metadata": {},
   "outputs": [],
   "source": [
    "N = 3\n",
    "I_3 = np.sin(N*delta/2.0)**2 / np.sin(delta/2.0)**2\n",
    "plt.plot(delta, I_3)"
   ]
  },
  {
   "cell_type": "code",
   "execution_count": null,
   "metadata": {},
   "outputs": [],
   "source": [
    "plt.plot(delta, I_2)\n",
    "plt.plot(delta, I_3)"
   ]
  },
  {
   "cell_type": "code",
   "execution_count": null,
   "metadata": {},
   "outputs": [],
   "source": [
    "N = 4\n",
    "I_4 = np.sin(N*delta/2.0)**2 / np.sin(delta/2.0)**2\n",
    "plt.plot(delta, I_4)"
   ]
  },
  {
   "cell_type": "code",
   "execution_count": null,
   "metadata": {},
   "outputs": [],
   "source": [
    "N = 8\n",
    "I_8 = np.sin(N*delta/2.0)**2 / np.sin(delta/2.0)**2\n",
    "plt.plot(delta, I_8)"
   ]
  },
  {
   "cell_type": "code",
   "execution_count": null,
   "metadata": {},
   "outputs": [],
   "source": [
    "N = 100\n",
    "I_100 = np.sin(N*delta/2.0)**2 / np.sin(delta/2.0)**2\n",
    "plt.plot(delta, I_100)"
   ]
  },
  {
   "cell_type": "code",
   "execution_count": null,
   "metadata": {},
   "outputs": [],
   "source": [
    "d = 10000 # in nm\n",
    "N = 20\n",
    "theta = np.linspace(-0.1, 0.1,1000)\n",
    "\n",
    "lam = 380 # nm\n",
    "delta = (2.0*np.pi) * (d*np.sin(theta)/lam)\n",
    "I_380 = np.sin(N*delta/2.0)**2 / np.sin(delta/2.0)**2\n",
    "\n",
    "lam = 600 # nm\n",
    "delta = (2.0*np.pi) * (d*np.sin(theta)/lam)\n",
    "I_600 = np.sin(N*delta/2.0)**2 / np.sin(delta/2.0)**2\n",
    "\n",
    "plt.plot(np.rad2deg(theta), I_380)\n",
    "plt.plot(np.rad2deg(theta), I_600)"
   ]
  }
 ],
 "metadata": {
  "kernelspec": {
   "display_name": "Python 3",
   "language": "python",
   "name": "python3"
  },
  "language_info": {
   "codemirror_mode": {
    "name": "ipython",
    "version": 3
   },
   "file_extension": ".py",
   "mimetype": "text/x-python",
   "name": "python",
   "nbconvert_exporter": "python",
   "pygments_lexer": "ipython3",
   "version": "3.6.10"
  }
 },
 "nbformat": 4,
 "nbformat_minor": 4
}
