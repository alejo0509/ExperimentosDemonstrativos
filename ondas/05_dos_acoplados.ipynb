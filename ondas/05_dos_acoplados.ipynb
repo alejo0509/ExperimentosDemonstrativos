{
 "cells": [
  {
   "cell_type": "code",
   "execution_count": null,
   "metadata": {},
   "outputs": [],
   "source": [
    "import numpy as np\n",
    "import matplotlib.pyplot as plt\n",
    "from scipy.integrate import odeint"
   ]
  },
  {
   "cell_type": "code",
   "execution_count": null,
   "metadata": {},
   "outputs": [],
   "source": [
    "def movimiento(X, t, omega_0, omega_c):\n",
    "    x_A, v_A, x_B, v_B = X\n",
    "    dXdt = [v_A, -omega_0**2 * x_A - omega_c**2 * (x_A - x_B),\n",
    "            v_B, -omega_0**2 * x_B - omega_c**2 * (x_B - x_A),]\n",
    "    return dXdt"
   ]
  },
  {
   "cell_type": "code",
   "execution_count": null,
   "metadata": {},
   "outputs": [],
   "source": [
    "n_points = 1000\n",
    "X0 = [1.0, 0.0, 0.0, 0.0]\n",
    "t = np.linspace(0,160, n_points)\n",
    "omega_0 = 1.0\n",
    "omega_c = 0.2\n",
    "sol = odeint(movimiento, X0, t, args=(omega_0, omega_c))\n",
    "x_A = sol[:,0]\n",
    "x_B = sol[:,2]"
   ]
  },
  {
   "cell_type": "code",
   "execution_count": null,
   "metadata": {},
   "outputs": [],
   "source": [
    "plt.plot(t, x_A)"
   ]
  },
  {
   "cell_type": "code",
   "execution_count": null,
   "metadata": {},
   "outputs": [],
   "source": [
    "plt.plot(t, x_B)"
   ]
  },
  {
   "cell_type": "code",
   "execution_count": null,
   "metadata": {},
   "outputs": [],
   "source": [
    "omega_0 = 1.0\n",
    "omega_c = 0.2\n",
    "A = np.array([[omega_0**2 + omega_c**2, -omega_c**2],[-omega_c**2, omega_0**2 + omega_c**2]])"
   ]
  },
  {
   "cell_type": "code",
   "execution_count": null,
   "metadata": {},
   "outputs": [],
   "source": [
    "valores, vectores = np.linalg.eig(A)"
   ]
  },
  {
   "cell_type": "code",
   "execution_count": null,
   "metadata": {},
   "outputs": [],
   "source": [
    "print(valores[0], vectores[:,0])\n",
    "print(valores[1], vectores[:,1])"
   ]
  },
  {
   "cell_type": "code",
   "execution_count": null,
   "metadata": {},
   "outputs": [],
   "source": [
    "n_points = 1000\n",
    "t = np.linspace(0,160,n_points)\n",
    "\n",
    "A_1 = 0.5\n",
    "q_1 = A_1 * np.cos(np.sqrt(valores[0])*t) \n",
    "\n",
    "A_2 = 0.5\n",
    "q_2 = A_2 * np.cos(np.sqrt(valores[1])*t)"
   ]
  },
  {
   "cell_type": "code",
   "execution_count": null,
   "metadata": {},
   "outputs": [],
   "source": [
    "x_1 = q_1 + q_2\n",
    "x_2 = q_1 - q_2 "
   ]
  },
  {
   "cell_type": "code",
   "execution_count": null,
   "metadata": {},
   "outputs": [],
   "source": [
    "plt.plot(t, x_1)"
   ]
  },
  {
   "cell_type": "code",
   "execution_count": null,
   "metadata": {},
   "outputs": [],
   "source": [
    "plt.plot(t, x_2)"
   ]
  }
 ],
 "metadata": {
  "kernelspec": {
   "display_name": "Python 3",
   "language": "python",
   "name": "python3"
  },
  "language_info": {
   "codemirror_mode": {
    "name": "ipython",
    "version": 3
   },
   "file_extension": ".py",
   "mimetype": "text/x-python",
   "name": "python",
   "nbconvert_exporter": "python",
   "pygments_lexer": "ipython3",
   "version": "3.6.10"
  }
 },
 "nbformat": 4,
 "nbformat_minor": 4
}
