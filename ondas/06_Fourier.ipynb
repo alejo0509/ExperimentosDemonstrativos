{
 "cells": [
  {
   "cell_type": "code",
   "execution_count": null,
   "metadata": {},
   "outputs": [],
   "source": [
    "import numpy as np\n",
    "import matplotlib.pyplot as plt"
   ]
  },
  {
   "cell_type": "code",
   "execution_count": null,
   "metadata": {},
   "outputs": [],
   "source": [
    "# Series de Fourier"
   ]
  },
  {
   "cell_type": "code",
   "execution_count": null,
   "metadata": {},
   "outputs": [],
   "source": [
    "def suma_fourier(x,N=2):\n",
    "    y=0\n",
    "    for i in range(N):\n",
    "        a = 1.0/(2.0*i+1)\n",
    "        y += a * np.sin((2*i+1)*x)\n",
    "    return y"
   ]
  },
  {
   "cell_type": "code",
   "execution_count": null,
   "metadata": {},
   "outputs": [],
   "source": [
    "L = 2.0*np.pi\n",
    "x = np.linspace(0.0,L,100)"
   ]
  },
  {
   "cell_type": "code",
   "execution_count": null,
   "metadata": {},
   "outputs": [],
   "source": [
    "plt.plot(x, suma_fourier(x,N=2))\n",
    "plt.plot(x, suma_fourier(x,N=10))\n",
    "plt.plot(x, suma_fourier(x,N=100))"
   ]
  },
  {
   "cell_type": "code",
   "execution_count": null,
   "metadata": {},
   "outputs": [],
   "source": [
    "# Transformada de Fourier"
   ]
  },
  {
   "cell_type": "code",
   "execution_count": null,
   "metadata": {},
   "outputs": [],
   "source": [
    "T = 1.0\n",
    "N = 25\n",
    "delta_t = T/N\n",
    "t = delta_t * np.arange(N)\n",
    "\n",
    "f_1 = 2.0\n",
    "omega_1 = 2.0 * np.pi * f_1\n",
    "a_1 = 0.3\n",
    "\n",
    "y = a_1 * np.sin(t * omega_1)"
   ]
  },
  {
   "cell_type": "code",
   "execution_count": null,
   "metadata": {},
   "outputs": [],
   "source": [
    "plt.scatter(t, y)\n",
    "plt.plot(t, y)"
   ]
  },
  {
   "cell_type": "code",
   "execution_count": null,
   "metadata": {},
   "outputs": [],
   "source": [
    "Y = np.fft.fft(y)"
   ]
  },
  {
   "cell_type": "code",
   "execution_count": null,
   "metadata": {},
   "outputs": [],
   "source": [
    "print(Y)"
   ]
  },
  {
   "cell_type": "code",
   "execution_count": null,
   "metadata": {},
   "outputs": [],
   "source": [
    "delta_f = 1.0/T\n",
    "\n",
    "f = delta_f * np.arange(N)\n",
    "\n",
    "plt.scatter(f, np.abs(Y)/N)"
   ]
  },
  {
   "cell_type": "code",
   "execution_count": null,
   "metadata": {},
   "outputs": [],
   "source": [
    "f_1 = 2.0\n",
    "omega_1 = 2.0*np.pi*f_1\n",
    "a_1 = 0.3\n",
    "\n",
    "f_2 = 5.0\n",
    "omega_2 = 2.0*np.pi*f_2\n",
    "a_2 = 0.2\n",
    "\n",
    "y = a_1 * np.sin(t * omega_1) + a_2 * np.sin(t * omega_2)"
   ]
  },
  {
   "cell_type": "code",
   "execution_count": null,
   "metadata": {},
   "outputs": [],
   "source": [
    "plt.scatter(t, y)\n",
    "plt.plot(t, y)"
   ]
  },
  {
   "cell_type": "code",
   "execution_count": null,
   "metadata": {},
   "outputs": [],
   "source": [
    "Y = np.fft.fft(y)\n",
    "plt.scatter(f, np.abs(Y)/N)"
   ]
  },
  {
   "cell_type": "code",
   "execution_count": null,
   "metadata": {},
   "outputs": [],
   "source": [
    "f_1 = 2.0\n",
    "omega_1 = 2.0*np.pi*f_1\n",
    "a_1 = 0.3\n",
    "\n",
    "f_2 = 5.0\n",
    "omega_2 = 2.0*np.pi*f_2\n",
    "a_2 = 0.2\n",
    "\n",
    "f_3 = 8.0\n",
    "omega_3 = 2.0*np.pi*f_3\n",
    "a_3 = 0.1\n",
    "\n",
    "y = a_1 * np.sin(t * omega_1) + a_2 * np.sin(t * omega_2) + a_3 * np.sin(t * omega_3) "
   ]
  },
  {
   "cell_type": "code",
   "execution_count": null,
   "metadata": {},
   "outputs": [],
   "source": [
    "Y = np.fft.fft(y)\n",
    "plt.scatter(f, np.abs(Y)/N)"
   ]
  },
  {
   "cell_type": "code",
   "execution_count": null,
   "metadata": {},
   "outputs": [],
   "source": [
    "# Analisis de datos"
   ]
  },
  {
   "cell_type": "code",
   "execution_count": null,
   "metadata": {},
   "outputs": [],
   "source": [
    "data = np.loadtxt(\"monthrg.dat\")\n",
    "fecha = data[:,0] + data[:,1]/12.0\n",
    "manchas = data[:,3]\n",
    "plt.scatter(fecha, manchas)"
   ]
  },
  {
   "cell_type": "code",
   "execution_count": null,
   "metadata": {},
   "outputs": [],
   "source": [
    "ii = fecha>1900\n",
    "manchas = manchas[ii] - np.mean(manchas[ii])\n",
    "fecha = fecha[ii]"
   ]
  },
  {
   "cell_type": "code",
   "execution_count": null,
   "metadata": {},
   "outputs": [],
   "source": [
    "plt.scatter(fecha, manchas)\n",
    "plt.plot(fecha, manchas)"
   ]
  },
  {
   "cell_type": "code",
   "execution_count": null,
   "metadata": {},
   "outputs": [],
   "source": [
    "n_points = len(manchas)\n",
    "fft_manchas = np.fft.fft(manchas)\n",
    "frecuencias = np.fft.fftfreq(n_points, 1)\n",
    "fft_norm = np.abs(fft_manchas)/n_points"
   ]
  },
  {
   "cell_type": "code",
   "execution_count": null,
   "metadata": {},
   "outputs": [],
   "source": [
    "plt.plot(frecuencias, fft_norm)"
   ]
  },
  {
   "cell_type": "code",
   "execution_count": null,
   "metadata": {},
   "outputs": [],
   "source": [
    "plt.plot(frecuencias, fft_norm)\n",
    "plt.xlim(-0.02,0.02)"
   ]
  },
  {
   "cell_type": "code",
   "execution_count": null,
   "metadata": {},
   "outputs": [],
   "source": [
    "ii = np.argmax(fft_norm)\n",
    "periodo_meses = 1/frecuencias[ii]\n",
    "periodo_year = periodo_meses/12.0\n",
    "print(periodo_year)"
   ]
  },
  {
   "cell_type": "code",
   "execution_count": null,
   "metadata": {},
   "outputs": [],
   "source": [
    "plt.vlines(frecuencias, np.zeros(n_points), fft_norm, linewidth=4)\n",
    "plt.title(\"El periodo es de {:.2f} agnos\".format(periodo_year))\n",
    "plt.xlim([-0.02, 0.02])\n",
    "plt.xlabel('Frecuencia (1/mes)')\n",
    "plt.ylabel('Norma FFT')\n",
    "plt.grid()"
   ]
  },
  {
   "cell_type": "code",
   "execution_count": null,
   "metadata": {},
   "outputs": [],
   "source": [
    "# tratamiento de senal\n",
    "\n",
    "jj = fft_norm<5.0\n",
    "fft_manchas_clean = fft_manchas.copy()\n",
    "fft_manchas_clean[jj] = 0.0\n",
    "manchas_clean = np.fft.ifft(fft_manchas_clean)\n",
    "manchas_clean = np.real(manchas_clean)"
   ]
  },
  {
   "cell_type": "code",
   "execution_count": null,
   "metadata": {},
   "outputs": [],
   "source": [
    "plt.plot(manchas, alpha=0.4)\n",
    "plt.plot(manchas_clean, color='black')"
   ]
  },
  {
   "cell_type": "code",
   "execution_count": null,
   "metadata": {},
   "outputs": [],
   "source": []
  },
  {
   "cell_type": "code",
   "execution_count": null,
   "metadata": {},
   "outputs": [],
   "source": []
  }
 ],
 "metadata": {
  "kernelspec": {
   "display_name": "Python 3",
   "language": "python",
   "name": "python3"
  },
  "language_info": {
   "codemirror_mode": {
    "name": "ipython",
    "version": 3
   },
   "file_extension": ".py",
   "mimetype": "text/x-python",
   "name": "python",
   "nbconvert_exporter": "python",
   "pygments_lexer": "ipython3",
   "version": "3.6.10"
  }
 },
 "nbformat": 4,
 "nbformat_minor": 4
}
