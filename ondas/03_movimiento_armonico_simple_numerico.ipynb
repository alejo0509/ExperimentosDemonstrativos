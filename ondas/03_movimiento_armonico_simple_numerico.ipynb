{
 "cells": [
  {
   "cell_type": "code",
   "execution_count": null,
   "metadata": {},
   "outputs": [],
   "source": [
    "import numpy as np\n",
    "import matplotlib.pyplot as plt\n",
    "from scipy.integrate import odeint"
   ]
  },
  {
   "cell_type": "code",
   "execution_count": null,
   "metadata": {},
   "outputs": [],
   "source": [
    "def movimiento(X, t, m, k, gamma):\n",
    "    x, v = X\n",
    "    dXdt = [v, -(k/m)*x - gamma*v]\n",
    "    return dXdt"
   ]
  },
  {
   "cell_type": "code",
   "execution_count": null,
   "metadata": {},
   "outputs": [],
   "source": [
    "X0 = [1.0, 0.0]\n",
    "t = np.linspace(0,50, 50000)\n",
    "m = 1.0\n",
    "k = 1.0\n",
    "gamma = 0.0\n",
    "sol = odeint(movimiento, X0, t, args=(m, k, gamma))\n",
    "x = sol[:,0]\n",
    "v = sol[:,1]"
   ]
  },
  {
   "cell_type": "code",
   "execution_count": null,
   "metadata": {},
   "outputs": [],
   "source": [
    "plt.plot(t, x)"
   ]
  },
  {
   "cell_type": "code",
   "execution_count": null,
   "metadata": {},
   "outputs": [],
   "source": [
    "plt.plot(t, v)"
   ]
  },
  {
   "cell_type": "code",
   "execution_count": null,
   "metadata": {},
   "outputs": [],
   "source": [
    "plt.plot(x, v)"
   ]
  },
  {
   "cell_type": "code",
   "execution_count": null,
   "metadata": {},
   "outputs": [],
   "source": [
    "X0 = [1.0, 0.0]\n",
    "t = np.linspace(0,50, 50000)\n",
    "m = 1.0\n",
    "k = 1.0\n",
    "gamma = 0.25\n",
    "sol = odeint(movimiento, X0, t, args=(m, k, gamma))\n",
    "x = sol[:,0]\n",
    "v = sol[:,1]"
   ]
  },
  {
   "cell_type": "code",
   "execution_count": null,
   "metadata": {},
   "outputs": [],
   "source": [
    "plt.plot(t, x)"
   ]
  },
  {
   "cell_type": "code",
   "execution_count": null,
   "metadata": {},
   "outputs": [],
   "source": [
    "plt.plot(t, v)"
   ]
  },
  {
   "cell_type": "code",
   "execution_count": null,
   "metadata": {},
   "outputs": [],
   "source": [
    "plt.plot(x, v)"
   ]
  },
  {
   "cell_type": "code",
   "execution_count": null,
   "metadata": {},
   "outputs": [],
   "source": [
    "gamma = 0.25\n",
    "sol = odeint(movimiento, X0, t, args=(m, k, gamma))\n",
    "x_A = sol[:,0]\n",
    "v_A = sol[:,1]\n",
    "\n",
    "gamma = 2.0\n",
    "sol = odeint(movimiento, X0, t, args=(m, k, gamma))\n",
    "x_B = sol[:,0]\n",
    "v_B = sol[:,1]\n",
    "\n",
    "gamma = 10.0\n",
    "sol = odeint(movimiento, X0, t, args=(m, k, gamma))\n",
    "x_C = sol[:,0]\n",
    "v_C = sol[:,1]"
   ]
  },
  {
   "cell_type": "code",
   "execution_count": null,
   "metadata": {},
   "outputs": [],
   "source": [
    "plt.plot(t, x_A, label='subamortiguado')\n",
    "plt.plot(t, x_B, label='critico')\n",
    "plt.plot(t, x_C, label='sobreamortiguado')\n",
    "plt.legend()"
   ]
  }
 ],
 "metadata": {
  "kernelspec": {
   "display_name": "Python 3",
   "language": "python",
   "name": "python3"
  },
  "language_info": {
   "codemirror_mode": {
    "name": "ipython",
    "version": 3
   },
   "file_extension": ".py",
   "mimetype": "text/x-python",
   "name": "python",
   "nbconvert_exporter": "python",
   "pygments_lexer": "ipython3",
   "version": "3.6.10"
  }
 },
 "nbformat": 4,
 "nbformat_minor": 4
}
